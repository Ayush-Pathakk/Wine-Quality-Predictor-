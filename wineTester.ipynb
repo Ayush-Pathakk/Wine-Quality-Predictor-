{
 "cells": [
  {
   "cell_type": "code",
   "execution_count": null,
   "id": "c4ef9035",
   "metadata": {},
   "outputs": [],
   "source": [
    "# import dependencies\n",
    "import numpy as np\n",
    "import pandas as pd\n",
    "import matplotlib.pyplot as plt\n",
    "import seaborn as sns\n",
    "from sklearn.model_selection import train_test_split\n",
    "from sklearn.ensemble import RandomForestClassifier\n",
    "from sklearn.linear_model import LogisticRegression\n",
    "from sklearn import svm\n",
    "from sklearn.metrics import accuracy_score      "
   ]
  },
  {
   "cell_type": "code",
   "execution_count": null,
   "id": "ecaffdfd",
   "metadata": {},
   "outputs": [],
   "source": [
    "#Data collection\n",
    "wine_data = pd.read_csv(r\"C:\\Users\\TOSHIBA\\python\\60hrcourse\\projects\\Wine Quality predictor\\winequality-red.csv\")\n",
    "wine_data.shape"
   ]
  },
  {
   "cell_type": "code",
   "execution_count": null,
   "id": "85921b18",
   "metadata": {},
   "outputs": [],
   "source": [
    "# first 5 rows of data\n",
    "wine_data.head()"
   ]
  },
  {
   "cell_type": "code",
   "execution_count": null,
   "id": "e8e2810f",
   "metadata": {},
   "outputs": [],
   "source": [
    "#checking for the missing values\n",
    "wine_data.isnull().sum()"
   ]
  },
  {
   "cell_type": "code",
   "execution_count": null,
   "id": "2f644a65",
   "metadata": {},
   "outputs": [],
   "source": [
    "#data analysis and visualization\n",
    "# statistics\n",
    "wine_data.describe()"
   ]
  },
  {
   "cell_type": "code",
   "execution_count": null,
   "id": "7fb879ec",
   "metadata": {},
   "outputs": [],
   "source": [
    "#no of values for each quality\n",
    "sns.catplot(x = \"quality\",data = wine_data,kind = \"count\")"
   ]
  },
  {
   "cell_type": "code",
   "execution_count": null,
   "id": "7e205ed9",
   "metadata": {},
   "outputs": [],
   "source": [
    "# volatile acidity vs quallity\n",
    "plot = plt.figure(figsize = (5,5))\n",
    "sns.barplot(x = \"quality\" , y = \"volatile acidity\",data = wine_data)"
   ]
  },
  {
   "cell_type": "code",
   "execution_count": null,
   "id": "342b3eeb",
   "metadata": {},
   "outputs": [],
   "source": [
    "# citric acid vs quallity\n",
    "plot = plt.figure(figsize = (5,5))\n",
    "sns.barplot(x = \"quality\" , y = \"citric acid\",data = wine_data)"
   ]
  },
  {
   "cell_type": "markdown",
   "id": "623d1bef",
   "metadata": {},
   "source": [
    "Correlation"
   ]
  },
  {
   "cell_type": "code",
   "execution_count": null,
   "id": "d1425bfc",
   "metadata": {},
   "outputs": [],
   "source": [
    "corrn  = wine_data.corr()"
   ]
  },
  {
   "cell_type": "code",
   "execution_count": null,
   "id": "1f2eb4d3",
   "metadata": {},
   "outputs": [],
   "source": [
    "#constructing a heatmap to understand corr\n",
    "plt.figure(figsize=(10,10))\n",
    "sns.heatmap(corrn, cbar = True,square = True , fmt = ' .1f',annot=True , annot_kws={'size':8},cmap = 'Blues')"
   ]
  },
  {
   "cell_type": "markdown",
   "id": "6fc8fcc7",
   "metadata": {},
   "source": [
    "Data Pre-proccessing "
   ]
  },
  {
   "cell_type": "code",
   "execution_count": null,
   "id": "b1d17e04",
   "metadata": {},
   "outputs": [],
   "source": [
    "X = wine_data.drop('quality',axis=1)\n",
    "print(X)"
   ]
  },
  {
   "cell_type": "markdown",
   "id": "a66cb204",
   "metadata": {},
   "source": [
    "Label Binarization"
   ]
  },
  {
   "cell_type": "code",
   "execution_count": null,
   "id": "de5ba84f",
   "metadata": {},
   "outputs": [],
   "source": [
    "y = wine_data['quality'].apply(lambda y_value: 1 if y_value >= 7 else 0)\n",
    "print(y)"
   ]
  },
  {
   "cell_type": "code",
   "execution_count": null,
   "id": "1bf6d7ff",
   "metadata": {},
   "outputs": [],
   "source": [
    "# splitting data into training and test data\n",
    "X_train , X_test , y_train , y_test = train_test_split( X ,y ,test_size=0.2,random_state=2)"
   ]
  },
  {
   "cell_type": "code",
   "execution_count": null,
   "id": "65232bb9",
   "metadata": {},
   "outputs": [],
   "source": [
    "print(y.shape, y_test.shape)"
   ]
  },
  {
   "cell_type": "code",
   "execution_count": null,
   "id": "a33e9cce",
   "metadata": {},
   "outputs": [],
   "source": [
    "#Model training\n",
    "model = RandomForestClassifier()\n",
    "# model = LogisticRegression()\n"
   ]
  },
  {
   "cell_type": "code",
   "execution_count": null,
   "id": "da846dbe",
   "metadata": {},
   "outputs": [],
   "source": [
    "model.fit(X_train,y_train)"
   ]
  },
  {
   "cell_type": "code",
   "execution_count": null,
   "id": "ca81a109",
   "metadata": {},
   "outputs": [],
   "source": [
    "# Model Evaluation\n",
    "# Accuracy Score\n",
    "X_test_prediction = model.predict(X_test)\n",
    "test_data_accuracy = accuracy_score(X_test_prediction , y_test)"
   ]
  },
  {
   "cell_type": "code",
   "execution_count": null,
   "id": "ff41f899",
   "metadata": {},
   "outputs": [],
   "source": [
    "\n",
    "print(\" Accuracy : \", test_data_accuracy)"
   ]
  },
  {
   "cell_type": "code",
   "execution_count": null,
   "id": "6d0d79d4",
   "metadata": {},
   "outputs": [],
   "source": [
    "# Building a predictive system\n",
    "input = (7.9,0.6,0.06,1.6,0.069,15.0,59.0,0.9964,3.3,0.46,9.4)\n",
    "\n",
    "#changing the input to a numpy array\n",
    "inputNP = np.asarray(input)\n",
    "\n",
    "#Reshape the data\n",
    "reshaped = inputNP.reshape(1,-1)\n",
    "\n",
    "prediction = model.predict(reshaped)\n",
    "print(prediction)\n",
    "\n",
    "if (prediction[0] == 1):\n",
    "    print(\"Good Quality wine\")\n",
    "else: \n",
    "    print(\" Bad Quality Wine\")\n",
    "        "
   ]
  },
  {
   "cell_type": "code",
   "execution_count": null,
   "id": "df8e1313",
   "metadata": {},
   "outputs": [],
   "source": []
  }
 ],
 "metadata": {
  "kernelspec": {
   "display_name": "Python 3",
   "language": "python",
   "name": "python3"
  },
  "language_info": {
   "codemirror_mode": {
    "name": "ipython",
    "version": 3
   },
   "file_extension": ".py",
   "mimetype": "text/x-python",
   "name": "python",
   "nbconvert_exporter": "python",
   "pygments_lexer": "ipython3",
   "version": "3.13.2"
  }
 },
 "nbformat": 4,
 "nbformat_minor": 5
}
